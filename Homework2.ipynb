{
 "cells": [
  {
   "cell_type": "markdown",
   "metadata": {},
   "source": [
    "# QTM 385\n",
    "\n",
    "***\n",
    "\n",
    "## Homework 2\n",
    "\n",
    "Student: 2298147"
   ]
  },
  {
   "cell_type": "markdown",
   "metadata": {},
   "source": [
    "In this homework we will create a text scrambler. The idea is that the user is going to input some text, and we will scramble the letters in the text. Each question will guide you up to the desired result."
   ]
  },
  {
   "cell_type": "markdown",
   "metadata": {},
   "source": [
    "\n",
    "***\n",
    "\n",
    "### Question 1\n",
    "\n",
    "Suppose that you have a string `S = 'My beautiful string'`. Show that you can transform your string into a list by applying the command `list(S)` to it."
   ]
  },
  {
   "cell_type": "code",
   "execution_count": 1,
   "metadata": {},
   "outputs": [],
   "source": [
    "S ='My beautiful string'"
   ]
  },
  {
   "cell_type": "code",
   "execution_count": 2,
   "metadata": {},
   "outputs": [
    {
     "data": {
      "text/plain": [
       "['M',\n",
       " 'y',\n",
       " ' ',\n",
       " 'b',\n",
       " 'e',\n",
       " 'a',\n",
       " 'u',\n",
       " 't',\n",
       " 'i',\n",
       " 'f',\n",
       " 'u',\n",
       " 'l',\n",
       " ' ',\n",
       " 's',\n",
       " 't',\n",
       " 'r',\n",
       " 'i',\n",
       " 'n',\n",
       " 'g']"
      ]
     },
     "execution_count": 2,
     "metadata": {},
     "output_type": "execute_result"
    }
   ],
   "source": [
    "list(S) # string into list by breaking down into letters"
   ]
  },
  {
   "cell_type": "markdown",
   "metadata": {},
   "source": [
    "\n",
    "***\n",
    "\n",
    "### Question 2\n",
    "\n",
    "If you have a list, you can put the elements together forming a string if you do the following:\n",
    "\n",
    "```\n",
    "L = ['1', '2', '3', '4', '5', '6']\n",
    "''.join(L)\n",
    "```\n",
    "\n",
    "Try for the list in this example. Try also for the list below:\n",
    "\n",
    "```\n",
    "L2 = ['a', '2', 'c', '4', 'e', '6']\n",
    "```"
   ]
  },
  {
   "cell_type": "code",
   "execution_count": 11,
   "metadata": {},
   "outputs": [
    {
     "data": {
      "text/plain": [
       "'123456'"
      ]
     },
     "execution_count": 11,
     "metadata": {},
     "output_type": "execute_result"
    }
   ],
   "source": [
    "L = ['1', '2', '3', '4', '5', '6']\n",
    "''.join(L) # joining the elements form a list to form a string "
   ]
  },
  {
   "cell_type": "code",
   "execution_count": 12,
   "metadata": {},
   "outputs": [
    {
     "data": {
      "text/plain": [
       "'a2c4e6'"
      ]
     },
     "execution_count": 12,
     "metadata": {},
     "output_type": "execute_result"
    }
   ],
   "source": [
    "L2 = ['a', '2', 'c', '4', 'e', '6']\n",
    "''.join(L2)"
   ]
  },
  {
   "cell_type": "markdown",
   "metadata": {},
   "source": [
    "\n",
    "***\n",
    "\n",
    "### Question 3\n",
    "\n",
    "If you have a list of objects, we learned how to select one using the function `choice` in the `random` module. This module has also a function `sample`, where you can select one or more elements from a list or tuple. Suppose we have a list `L` with elements, and that we imported the module as `rd` (see previous homework). The syntax for selecting three elements there is:\n",
    "\n",
    "```\n",
    "rd.sample(L, 3)\n",
    "```\n",
    "\n",
    "Now, from the following list:\n",
    "\n",
    "```\n",
    "preferred_food = ['pizza', 'ice cream', 'salad']\n",
    "```\n",
    "\n",
    "Select two favorite foods to eat."
   ]
  },
  {
   "cell_type": "code",
   "execution_count": 5,
   "metadata": {},
   "outputs": [],
   "source": [
    "import random as rd"
   ]
  },
  {
   "cell_type": "code",
   "execution_count": 6,
   "metadata": {},
   "outputs": [],
   "source": [
    "preferred_food = ['pizza', 'ice cream', 'salad']"
   ]
  },
  {
   "cell_type": "code",
   "execution_count": 7,
   "metadata": {},
   "outputs": [
    {
     "data": {
      "text/plain": [
       "['ice cream', 'pizza']"
      ]
     },
     "execution_count": 7,
     "metadata": {},
     "output_type": "execute_result"
    }
   ],
   "source": [
    "rd.sample(preferred_food, 2)"
   ]
  },
  {
   "cell_type": "markdown",
   "metadata": {},
   "source": [
    "\n",
    "***\n",
    "\n",
    "### Question 4\n",
    "\n",
    "To get the user's input, we can use the function `input()`. The syntax is simple: `variable_saving = input('Prompt here: ')`. Use the function below to save the input in the variable `my_entry`. As a prompt, use the phrase 'Enter your text here: '. Print the text typed by the user."
   ]
  },
  {
   "cell_type": "code",
   "execution_count": 8,
   "metadata": {},
   "outputs": [
    {
     "name": "stdout",
     "output_type": "stream",
     "text": [
      "Enter your text here:bee\n",
      "this is my text: bee\n"
     ]
    }
   ],
   "source": [
    "my_entry = input('Enter your text here:')\n",
    "print ('this is my text: '+ str(my_entry)) # is this what printing what is typed by user "
   ]
  },
  {
   "cell_type": "markdown",
   "metadata": {},
   "source": [
    "\n",
    "***\n",
    "\n",
    "### Question 5\n",
    "\n",
    "Now, build your scrambler. Assume the user will enter a word, or a name, or even a phrase. Scramble it and return the input scrambled after the user type it."
   ]
  },
  {
   "cell_type": "code",
   "execution_count": 10,
   "metadata": {},
   "outputs": [
    {
     "name": "stdout",
     "output_type": "stream",
     "text": [
      "my text:word\n"
     ]
    },
    {
     "data": {
      "text/plain": [
       "'dorw'"
      ]
     },
     "execution_count": 10,
     "metadata": {},
     "output_type": "execute_result"
    }
   ],
   "source": [
    "import random as rd \n",
    "scrambler = input('my text:') # input \n",
    "new_scrambler = list(scrambler) # to convert into separate letters of each like in question 1\n",
    "rd.shuffle(new_scrambler)\n",
    "sequence = ''.join(new_scrambler) # joining the letters back together\n",
    "sequence"
   ]
  },
  {
   "cell_type": "markdown",
   "metadata": {},
   "source": [
    "**That's all, folks!**"
   ]
  }
 ],
 "metadata": {
  "kernelspec": {
   "display_name": "Python 3",
   "language": "python",
   "name": "python3"
  },
  "language_info": {
   "codemirror_mode": {
    "name": "ipython",
    "version": 3
   },
   "file_extension": ".py",
   "mimetype": "text/x-python",
   "name": "python",
   "nbconvert_exporter": "python",
   "pygments_lexer": "ipython3",
   "version": "3.7.4"
  }
 },
 "nbformat": 4,
 "nbformat_minor": 4
}
